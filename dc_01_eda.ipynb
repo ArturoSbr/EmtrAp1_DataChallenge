{
  "nbformat": 4,
  "nbformat_minor": 0,
  "metadata": {
    "colab": {
      "name": "dc_01_eda.ipynb",
      "provenance": [],
      "collapsed_sections": [],
      "authorship_tag": "ABX9TyP8ihbYh0Vzz5XULln27IGm",
      "include_colab_link": true
    },
    "kernelspec": {
      "name": "python3",
      "display_name": "Python 3"
    },
    "language_info": {
      "name": "python"
    }
  },
  "cells": [
    {
      "cell_type": "markdown",
      "metadata": {
        "id": "view-in-github",
        "colab_type": "text"
      },
      "source": [
        "<a href=\"https://colab.research.google.com/github/ArturoSbr/EmtrAp1_DataChallenge/blob/main/dc_01_eda.ipynb\" target=\"_parent\"><img src=\"https://colab.research.google.com/assets/colab-badge.svg\" alt=\"Open In Colab\"/></a>"
      ]
    },
    {
      "cell_type": "markdown",
      "metadata": {
        "id": "UqbQTXz_iMuk"
      },
      "source": [
        "Librerías"
      ]
    },
    {
      "cell_type": "code",
      "metadata": {
        "id": "rDw3AKoyhICh"
      },
      "source": [
        "%%capture\n",
        "# Actualizar librería statsmodels\n",
        "!pip install statsmodels==0.13.1\n",
        "\n",
        "# Importar librerías\n",
        "import numpy as np\n",
        "import pandas as pd\n",
        "from statsmodels.miscmodels.ordinal_model import OrderedModel"
      ],
      "execution_count": 1,
      "outputs": []
    },
    {
      "cell_type": "markdown",
      "metadata": {
        "id": "tNEUGHghheAV"
      },
      "source": [
        "Cosas"
      ]
    },
    {
      "cell_type": "code",
      "metadata": {
        "id": "u8NO6-iPiP-M"
      },
      "source": [
        ""
      ],
      "execution_count": null,
      "outputs": []
    }
  ]
}